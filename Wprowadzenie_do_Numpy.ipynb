{
 "cells": [
  {
   "cell_type": "code",
   "execution_count": 1,
   "id": "66faa92d-5b56-43ba-bd24-c7726a3909e1",
   "metadata": {},
   "outputs": [
    {
     "name": "stdout",
     "output_type": "stream",
     "text": [
      "Biblioteka Numpy została zaimportowana jako np.\n"
     ]
    }
   ],
   "source": [
    "import numpy as np\n",
    "print('Biblioteka Numpy została zaimportowana jako np.')"
   ]
  },
  {
   "cell_type": "code",
   "execution_count": 11,
   "id": "360c0c51-93c4-40d6-8395-c68b0c0d42cc",
   "metadata": {},
   "outputs": [
    {
     "name": "stdout",
     "output_type": "stream",
     "text": [
      "[10 20 30 40 50 60 70 80]\n",
      "Dtype: int64\n",
      "Shape: (8,)\n",
      "30\n",
      "[60 70 80]\n",
      "[20 40 60 80]\n",
      "[[10 20]\n",
      " [30 40]\n",
      " [50 60]\n",
      " [70 80]]\n"
     ]
    }
   ],
   "source": [
    "#utworzenie listy\n",
    "moje_dane = [10,20,30,40,50,60,70,80]\n",
    "#przekształcenie listy w tablicę\n",
    "moje_dane = np.array(moje_dane)\n",
    "#wyświetlenie tablicy\n",
    "print(moje_dane)\n",
    "#sprawdzenie typu danych\n",
    "print(f'Dtype: {moje_dane.dtype}')\n",
    "#sprawdzenie formy tablicy (8 elementów)\n",
    "print(f'Shape: {moje_dane.shape}')\n",
    "#Wyświetlenie elementu o indexie 2\n",
    "print(moje_dane[2])\n",
    "#Wyświetlenie elemntów od indexu 5 do końca\n",
    "print(moje_dane[5: ])\n",
    "#Wyświetlenie co drugiego elemntu zaczynając od indeksowanego 1\n",
    "print(moje_dane[1: :2])\n",
    "#Przekształcenie tablicy w dwuwymiarową 4 wiersze po 2 kolumny\n",
    "print(f'{moje_dane.reshape(4,2)}')"
   ]
  },
  {
   "cell_type": "code",
   "execution_count": null,
   "id": "913f1270-9ec0-4c84-9b71-1669f6de817f",
   "metadata": {},
   "outputs": [],
   "source": []
  },
  {
   "cell_type": "code",
   "execution_count": null,
   "id": "36b62b2c-95a8-48d7-b15d-3690d28a5979",
   "metadata": {},
   "outputs": [],
   "source": []
  }
 ],
 "metadata": {
  "kernelspec": {
   "display_name": "Python 3 (ipykernel)",
   "language": "python",
   "name": "python3"
  },
  "language_info": {
   "codemirror_mode": {
    "name": "ipython",
    "version": 3
   },
   "file_extension": ".py",
   "mimetype": "text/x-python",
   "name": "python",
   "nbconvert_exporter": "python",
   "pygments_lexer": "ipython3",
   "version": "3.12.3"
  }
 },
 "nbformat": 4,
 "nbformat_minor": 5
}
