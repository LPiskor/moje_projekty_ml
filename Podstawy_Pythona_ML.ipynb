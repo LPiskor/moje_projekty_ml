{
 "cells": [
  {
   "cell_type": "markdown",
   "id": "0a07b499-e365-4f8f-8510-92c250d66627",
   "metadata": {},
   "source": [
    "Ćwiczenie 1:"
   ]
  },
  {
   "cell_type": "code",
   "execution_count": 17,
   "id": "efa79b55-1baf-41a7-9d50-2dde4024ac76",
   "metadata": {},
   "outputs": [
    {
     "name": "stdout",
     "output_type": "stream",
     "text": [
      "<class 'float'>\n",
      "<class 'str'>\n"
     ]
    }
   ],
   "source": [
    "#Utworzenie zmiennej z ceną i nazwą produktu\n",
    "cena = 15.99\n",
    "produkt = 'Langosz'\n",
    "#wyświetlenie zawartości obu zmiennych\n",
    "print(type(cena))\n",
    "print(type(produkt))"
   ]
  },
  {
   "cell_type": "markdown",
   "id": "135a960e-0d8c-4f2a-b1bf-dbbe6a889197",
   "metadata": {},
   "source": [
    "Ćwiczenie 2:"
   ]
  },
  {
   "cell_type": "code",
   "execution_count": 18,
   "id": "c4129b1a-9cbe-4153-aaab-19959b50f402",
   "metadata": {},
   "outputs": [
    {
     "name": "stdout",
     "output_type": "stream",
     "text": [
      "['Halloween', 'Koszmar z Ulicy Wiązów', 'Piątek Trzynastego']\n",
      "{'imie': 'Tomasz', 'nazwisko': 'Pilny', 'oceny': 4}\n",
      "['Halloween', 'Koszmar z Ulicy Wiązów', 'Piątek Trzynastego', 'Martwe Zło']\n",
      "{'imie': 'Tomasz', 'nazwisko': 'Pilny', 'oceny': 5}\n"
     ]
    }
   ],
   "source": [
    "#Utworzenie listy zawierającej ulubione filmy\n",
    "ulubione_filmy = ['Halloween', 'Koszmar z Ulicy Wiązów', 'Piątek Trzynastego']\n",
    "#Utworzenie słownika student zawierającej imie, nazwisko i ocene\n",
    "student = {\n",
    "    'imie': 'Tomasz',\n",
    "    'nazwisko': 'Pilny',\n",
    "    'oceny': 4\n",
    "}\n",
    "#Wyświetlenie listy oraz słownika\n",
    "print(ulubione_filmy)\n",
    "print(student)\n",
    "#dodanie na końcu listy nowego rekordu\n",
    "ulubione_filmy.append('Martwe Zło')\n",
    "#zmiana oceny\n",
    "student['oceny']=5\n",
    "#ponowne wyświetlenie zawartości\n",
    "print(ulubione_filmy)\n",
    "print(student)\n"
   ]
  },
  {
   "cell_type": "markdown",
   "id": "6ee731f8-727f-4082-951f-be76af1e54cc",
   "metadata": {},
   "source": [
    "Ćwiczenie 3:"
   ]
  },
  {
   "cell_type": "code",
   "execution_count": 16,
   "id": "1e49a4ec-c69e-4868-a1bf-39292ec1ef29",
   "metadata": {},
   "outputs": [
    {
     "name": "stdout",
     "output_type": "stream",
     "text": [
      "pole_prostokata =  127.1\n",
      "1\n",
      "0\n",
      "False\n"
     ]
    }
   ],
   "source": [
    "#utworzenie zmiennych typu float\n",
    "a = 15.5\n",
    "b = 8.2\n",
    "#wyświetlenie oraz wykonanie obliczeń\n",
    "print('pole_prostokata = ', a*b)\n",
    "#Utworzenie zmiennej x\n",
    "x=27\n",
    "#Wykonanie operacji modullo \n",
    "#zostaje nam 1 reszty więc liczba jest nieparzysta\n",
    "print(x%2)\n",
    "#brak reszty - liczba podzielna przez 3\n",
    "print(x%3)\n",
    "#Sprawdzenie, czy oba warunki zostały spełnione\n",
    "print(x%2!=1 and x%3==0)"
   ]
  },
  {
   "cell_type": "code",
   "execution_count": null,
   "id": "a25cb852-4357-4d04-9aa1-8e07368ea802",
   "metadata": {},
   "outputs": [],
   "source": []
  }
 ],
 "metadata": {
  "kernelspec": {
   "display_name": "Python 3 (ipykernel)",
   "language": "python",
   "name": "python3"
  },
  "language_info": {
   "codemirror_mode": {
    "name": "ipython",
    "version": 3
   },
   "file_extension": ".py",
   "mimetype": "text/x-python",
   "name": "python",
   "nbconvert_exporter": "python",
   "pygments_lexer": "ipython3",
   "version": "3.12.3"
  }
 },
 "nbformat": 4,
 "nbformat_minor": 5
}
