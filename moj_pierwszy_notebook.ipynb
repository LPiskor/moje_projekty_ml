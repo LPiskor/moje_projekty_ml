{
 "cells": [
  {
   "cell_type": "code",
   "execution_count": 1,
   "id": "f64150dd-6bbc-4326-bced-931794dcdcd0",
   "metadata": {},
   "outputs": [
    {
     "name": "stdout",
     "output_type": "stream",
     "text": [
      "Witaj w JupyterLab!\n"
     ]
    }
   ],
   "source": [
    "print(\"Witaj w JupyterLab!\")"
   ]
  },
  {
   "cell_type": "code",
   "execution_count": 2,
   "id": "12c3949b-f721-4ac7-8ccb-57d4240c6a3b",
   "metadata": {},
   "outputs": [
    {
     "name": "stdout",
     "output_type": "stream",
     "text": [
      "[1 2 3]\n"
     ]
    }
   ],
   "source": [
    "import numpy as np\n",
    "a = np.array([1,2,3])\n",
    "print(a)"
   ]
  },
  {
   "cell_type": "markdown",
   "id": "2a076480-b0d2-4368-8c8c-4f67c7848607",
   "metadata": {},
   "source": [
    "#Mój Pierwszy Notebook"
   ]
  },
  {
   "cell_type": "code",
   "execution_count": 1,
   "id": "b26ca102-22fc-45fc-924e-b1461ed4e1f5",
   "metadata": {},
   "outputs": [
    {
     "name": "stdout",
     "output_type": "stream",
     "text": [
      "   Kolumna1 Kolumna2\n",
      "0         1        A\n",
      "1         2        B\n",
      "2         3        C\n"
     ]
    }
   ],
   "source": [
    "import numpy as np\n",
    "import pandas as pd\n",
    "\n",
    "data = {'Kolumna1': [1,2,3], 'Kolumna2': ['A','B','C']}\n",
    "df = pd.DataFrame(data)\n",
    "print(df)"
   ]
  },
  {
   "cell_type": "markdown",
   "id": "470a713d-2f7b-48c3-85c3-6ad1a930de84",
   "metadata": {},
   "source": [
    "Kod importuje numpy i pandas, tworzy 2 kolumny i wyświetla DataFrame."
   ]
  }
 ],
 "metadata": {
  "kernelspec": {
   "display_name": "Python 3 (ipykernel)",
   "language": "python",
   "name": "python3"
  },
  "language_info": {
   "codemirror_mode": {
    "name": "ipython",
    "version": 3
   },
   "file_extension": ".py",
   "mimetype": "text/x-python",
   "name": "python",
   "nbconvert_exporter": "python",
   "pygments_lexer": "ipython3",
   "version": "3.12.3"
  }
 },
 "nbformat": 4,
 "nbformat_minor": 5
}
