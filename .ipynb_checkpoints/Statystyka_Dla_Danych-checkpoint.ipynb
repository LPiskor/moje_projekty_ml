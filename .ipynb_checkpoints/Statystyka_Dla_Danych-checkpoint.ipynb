{
 "cells": [
  {
   "cell_type": "code",
   "execution_count": 1,
   "id": "ad644514-693e-42a8-8aa5-8d0df27cdf7d",
   "metadata": {},
   "outputs": [
    {
     "name": "stdout",
     "output_type": "stream",
     "text": [
      "Biblioteki statystyczne zaimportowane.\n"
     ]
    }
   ],
   "source": [
    "import numpy as np\n",
    "import pandas as pd\n",
    "import matplotlib.pyplot as plt\n",
    "import seaborn as sns\n",
    "from scipy import stats #Nowa biblioteka do statystyk\n",
    "print(\"Biblioteki statystyczne zaimportowane.\")"
   ]
  },
  {
   "cell_type": "code",
   "execution_count": 5,
   "id": "8a8640cc-0626-41b1-a45c-b024980eb355",
   "metadata": {},
   "outputs": [
    {
     "name": "stdout",
     "output_type": "stream",
     "text": [
      "Średnia: 11.166666666666666\n"
     ]
    }
   ],
   "source": [
    "dochody = np.array([5,6,7,5,8,9,6,10,15,7,6,50])\n",
    "print(f\"Średnia: {np.mean(dochody)}\")"
   ]
  },
  {
   "cell_type": "markdown",
   "id": "fb68619d-01c8-40ae-aeb2-398d1e4a026d",
   "metadata": {},
   "source": [
    "Średni dochód pracownika firmy wynosi ~11.16. Wartość zafałszowana przez pensję osób zarabiających dużo więcej niż pozostali (wartość: 50 i 15)"
   ]
  },
  {
   "cell_type": "code",
   "execution_count": 6,
   "id": "c7c4555b-ae05-4687-90d3-2c60a4c07cc5",
   "metadata": {},
   "outputs": [
    {
     "name": "stdout",
     "output_type": "stream",
     "text": [
      "Mediana: 7.0\n"
     ]
    }
   ],
   "source": [
    "print(f\"Mediana: {np.median(dochody)}\")"
   ]
  },
  {
   "cell_type": "markdown",
   "id": "67a72cd2-8bfa-4d95-bdfa-ea804f4db214",
   "metadata": {},
   "source": [
    "Po uszeregowaniu wartości od najmniejszej do największej środowka z nich wynosi 7, co stanowi mediane."
   ]
  },
  {
   "cell_type": "code",
   "execution_count": 7,
   "id": "6d5e09c9-7556-4121-a46b-f30793739f15",
   "metadata": {},
   "outputs": [
    {
     "name": "stdout",
     "output_type": "stream",
     "text": [
      "Moda: [6]\n"
     ]
    }
   ],
   "source": [
    "df = pd.Series(dochody)\n",
    "moda_df = df.mode()\n",
    "print(f\"Moda: {moda_df.values}\")"
   ]
  },
  {
   "cell_type": "markdown",
   "id": "df7bd66f-2da1-492e-a9b8-8502caf050eb",
   "metadata": {},
   "source": [
    "Najwięcej osób wśród pracowników zarabia 6 tys. - tyle wynosi moda."
   ]
  },
  {
   "cell_type": "code",
   "execution_count": 25,
   "id": "40fd6c69-0861-4132-9c4f-1e99fa7a9273",
   "metadata": {},
   "outputs": [
    {
     "name": "stdout",
     "output_type": "stream",
     "text": [
      "Zakres czasu reakcji: 55\n"
     ]
    }
   ],
   "source": [
    "czas_reakcji = np.array([150, 160, 155, 170, 145, 200, 165, 158, 172, 163])\n",
    "zakres = np.max(czas_reakcji) - np.min(czas_reakcji)\n",
    "print(f\"Zakres czasu reakcji: {zakres}\")"
   ]
  },
  {
   "cell_type": "markdown",
   "id": "8ed01b54-32c5-4ef3-9256-3dc26de16f13",
   "metadata": {},
   "source": [
    "Zakres czasu reakcji obliczany jako różnica między wartościami skrajnymi (maksymalną i minimalną)."
   ]
  },
  {
   "cell_type": "code",
   "execution_count": 26,
   "id": "9651e16e-0b91-4f42-938e-4562bc2184f9",
   "metadata": {},
   "outputs": [
    {
     "name": "stdout",
     "output_type": "stream",
     "text": [
      "Wariancja (Obliczona w NumPy dla próby): 231.95555555555555\n"
     ]
    }
   ],
   "source": [
    "#Wariancja obliczona w NumPy\n",
    "czas_reakcji = np.array([150, 160, 155, 170, 145, 200, 165, 158, 172, 163])\n",
    "wariancja_np = np.var(czas_reakcji, ddof=1) #ddof=1 to wartość przy obliczaniu wyniku dla próby (jest to wartość domyślna), ddof=0 wykorzystujemy gdy statystyka jest obliczana dla populacji\n",
    "print(f\"Wariancja (Obliczona w NumPy dla próby): {wariancja_np}\")"
   ]
  },
  {
   "cell_type": "markdown",
   "id": "ee967a54-a45e-425f-8750-5caf1f44c334",
   "metadata": {},
   "source": [
    "Wariancja obliczana na podstawie próby z pomiaru reakcji czasu graczy. Kalkulacje wykonano odejmując od każdej z wartości umieszczonej w tablicy średnią (xi−x)[xi - każda wartość w tablicy odejmowana w kolejnych iteracjach, x - wartość średniej], następnie wartość każdego z odchyleń podniesiono do kwadratu ((xi-x)^2), na koniec sumowano wszystkie wartości podniesione do kwadratu i podzielono przez liczbę prób - 1"
   ]
  },
  {
   "cell_type": "code",
   "execution_count": 27,
   "id": "42afd7dd-111f-4b08-8fef-ca82a0db0335",
   "metadata": {},
   "outputs": [
    {
     "name": "stdout",
     "output_type": "stream",
     "text": [
      "Wariancja (Obliczona w Pandas dla próby):  231.95555555555555\n"
     ]
    }
   ],
   "source": [
    "#Ta sama wariancja obliczona w Pandas\n",
    "czas_reakcji = np.array([150, 160, 155, 170, 145, 200, 165, 158, 172, 163])\n",
    "df_czas = pd.DataFrame({'czas_reakcji': czas_reakcji})\n",
    "wariancja_pd = df_czas['czas_reakcji'].var()\n",
    "print(f\"Wariancja (Obliczona w Pandas dla próby):  {wariancja_pd}\")"
   ]
  },
  {
   "cell_type": "code",
   "execution_count": 28,
   "id": "1358b9a7-1b49-4e68-a798-54150a32db8a",
   "metadata": {},
   "outputs": [
    {
     "name": "stdout",
     "output_type": "stream",
     "text": [
      "Odchylenie standarowe dla próby: 15.230087181482434\n"
     ]
    }
   ],
   "source": [
    "#Odchylenie standardowe w NumPy\n",
    "czas_reakcji = np.array([150, 160, 155, 170, 145, 200, 165, 158, 172, 163])\n",
    "odchylenie_np = np.std(czas_reakcji, ddof=1) #ddof=1 to standard dla próby (domyślna wartość), ddof=0 wartość dla populacji\n",
    "print(f\"Odchylenie standarowe dla próby: {odchylenie_np}\")"
   ]
  },
  {
   "cell_type": "code",
   "execution_count": null,
   "id": "00e778d0-954a-4749-8b81-394f55bf99aa",
   "metadata": {},
   "outputs": [],
   "source": [
    "Pierwiastek kwadratowy z wariancji. "
   ]
  },
  {
   "cell_type": "code",
   "execution_count": 29,
   "id": "ef15ee91-91d9-42b9-a0bf-9c533cf136e6",
   "metadata": {},
   "outputs": [
    {
     "name": "stdout",
     "output_type": "stream",
     "text": [
      "Odchylenie standardowe dla próby: 15.230087181482434\n"
     ]
    }
   ],
   "source": [
    "#Odchylenie standardowe w Pandas\n",
    "czas_reakcji = np.array([150, 160, 155, 170, 145, 200, 165, 158, 172, 163])\n",
    "df_odchylenie = pd.DataFrame({'czas_reakcji': czas_reakcji})\n",
    "odchylenie_pd = df_odchylenie['czas_reakcji'].std()\n",
    "print(f\"Odchylenie standardowe dla próby: {odchylenie_pd}\")"
   ]
  },
  {
   "cell_type": "code",
   "execution_count": 30,
   "id": "b8a1fb72-a054-4446-85cf-a609a53e059a",
   "metadata": {},
   "outputs": [
    {
     "name": "stdout",
     "output_type": "stream",
     "text": [
      "Q1: 155.75\n",
      "Q3: 168.75\n",
      "IQR: 13.0\n"
     ]
    }
   ],
   "source": [
    "#Obliczenie kwartyli i rozstępu międzykwartylowego z użyciem Numpy (IQR - Interqurtile Range)\n",
    "\n",
    "czas_reakcji = np.array([150, 160, 155, 170, 145, 200, 165, 158, 172, 163])\n",
    "Q1_np = np.percentile(czas_reakcji, 25)\n",
    "Q3_np = np.percentile(czas_reakcji, 75)\n",
    "IQR_np = Q3_np - Q1_np\n",
    "print(f\"Q1: {Q1_np}\")\n",
    "print(f\"Q3: {Q3_np}\")\n",
    "print(f\"IQR: {IQR_np}\")\n"
   ]
  },
  {
   "cell_type": "markdown",
   "id": "751bbb68-9786-46c7-a441-b5587d2c17f3",
   "metadata": {},
   "source": [
    "Kwartyle dzielą zbiór na 4 równe części. Obliczenie wykorzystuje 25 i 75 percentyl obliczając różnice z nich. Pozwala to na wyeliminowanie wpływu wartości skrajnych z rozproszenia."
   ]
  },
  {
   "cell_type": "code",
   "execution_count": 33,
   "id": "fff6319c-9012-4cf9-9eef-fef6175e105d",
   "metadata": {},
   "outputs": [
    {
     "name": "stdout",
     "output_type": "stream",
     "text": [
      "\n",
      "Opis danych:\n",
      "       czas_reakcji\n",
      "count     10.000000\n",
      "mean     163.800000\n",
      "std       15.230087\n",
      "min      145.000000\n",
      "25%      155.750000\n",
      "50%      161.500000\n",
      "75%      168.750000\n",
      "max      200.000000\n",
      "Q1: 155.75\n",
      "Q3: 168.75\n",
      "IQR: 13.0\n"
     ]
    }
   ],
   "source": [
    "#Obliczenie kwartyli i rozstępu międzykwartylowego z użyciem Pandas (IQR - Interqurtile Range)\n",
    "\n",
    "czas_reakcji = np.array([150, 160, 155, 170, 145, 200, 165, 158, 172, 163])\n",
    "df_czas = pd.DataFrame({'czas_reakcji': czas_reakcji})\n",
    "opis_danych = df_czas.describe()\n",
    "print(f\"\\nOpis danych:\")\n",
    "print(opis_danych)\n",
    "\n",
    "Q1_pd = opis_danych.loc['25%', 'czas_reakcji']\n",
    "Q3_pd = opis_danych.loc['75%', 'czas_reakcji']\n",
    "IQR_pd = Q3_pd - Q1_pd\n",
    "print(f\"Q1: {Q1_pd}\")\n",
    "print(f\"Q3: {Q3_pd}\")\n",
    "print(f\"IQR: {IQR_pd}\")"
   ]
  }
 ],
 "metadata": {
  "kernelspec": {
   "display_name": "Python 3 (ipykernel)",
   "language": "python",
   "name": "python3"
  },
  "language_info": {
   "codemirror_mode": {
    "name": "ipython",
    "version": 3
   },
   "file_extension": ".py",
   "mimetype": "text/x-python",
   "name": "python",
   "nbconvert_exporter": "python",
   "pygments_lexer": "ipython3",
   "version": "3.12.3"
  }
 },
 "nbformat": 4,
 "nbformat_minor": 5
}
