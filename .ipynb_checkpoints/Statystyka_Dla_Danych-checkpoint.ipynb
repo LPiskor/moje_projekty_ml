{
 "cells": [
  {
   "cell_type": "code",
   "execution_count": 1,
   "id": "ad644514-693e-42a8-8aa5-8d0df27cdf7d",
   "metadata": {},
   "outputs": [
    {
     "name": "stdout",
     "output_type": "stream",
     "text": [
      "Biblioteki statystyczne zaimportowane.\n"
     ]
    }
   ],
   "source": [
    "import numpy as np\n",
    "import pandas as pd\n",
    "import matplotlib.pyplot as plt\n",
    "import seaborn as sns\n",
    "from scipy import stats #Nowa biblioteka do statystyk\n",
    "print(\"Biblioteki statystyczne zaimportowane.\")"
   ]
  },
  {
   "cell_type": "code",
   "execution_count": 5,
   "id": "8a8640cc-0626-41b1-a45c-b024980eb355",
   "metadata": {},
   "outputs": [
    {
     "name": "stdout",
     "output_type": "stream",
     "text": [
      "Średnia: 11.166666666666666\n"
     ]
    }
   ],
   "source": [
    "dochody = np.array([5,6,7,5,8,9,6,10,15,7,6,50])\n",
    "print(f\"Średnia: {np.mean(dochody)}\")"
   ]
  },
  {
   "cell_type": "markdown",
   "id": "fb68619d-01c8-40ae-aeb2-398d1e4a026d",
   "metadata": {},
   "source": [
    "Średni dochód pracownika firmy wynosi ~11.16. Wartość zafałszowana przez pensję osób zarabiających dużo więcej niż pozostali (wartość: 50 i 15)"
   ]
  },
  {
   "cell_type": "code",
   "execution_count": 6,
   "id": "c7c4555b-ae05-4687-90d3-2c60a4c07cc5",
   "metadata": {},
   "outputs": [
    {
     "name": "stdout",
     "output_type": "stream",
     "text": [
      "Mediana: 7.0\n"
     ]
    }
   ],
   "source": [
    "print(f\"Mediana: {np.median(dochody)}\")"
   ]
  },
  {
   "cell_type": "code",
   "execution_count": null,
   "id": "d1408fc3-25bb-4464-ac19-13c7d26c263e",
   "metadata": {},
   "outputs": [],
   "source": [
    "Po uszeregowaniu wartości od najmniejszej do największej środowka z nich wynosi 7, co stanowi mediane."
   ]
  },
  {
   "cell_type": "code",
   "execution_count": 7,
   "id": "6d5e09c9-7556-4121-a46b-f30793739f15",
   "metadata": {},
   "outputs": [
    {
     "name": "stdout",
     "output_type": "stream",
     "text": [
      "Moda: [6]\n"
     ]
    }
   ],
   "source": [
    "df = pd.Series(dochody)\n",
    "moda_df = df.mode()\n",
    "print(f\"Moda: {moda_df.values}\")"
   ]
  },
  {
   "cell_type": "code",
   "execution_count": null,
   "id": "ea801398-9c4b-4c4b-8405-df92f22cf539",
   "metadata": {},
   "outputs": [],
   "source": [
    "Najwięcej osób wśród pracowników zarabia 6 tys. - tyle wynosi moda."
   ]
  }
 ],
 "metadata": {
  "kernelspec": {
   "display_name": "Python 3 (ipykernel)",
   "language": "python",
   "name": "python3"
  },
  "language_info": {
   "codemirror_mode": {
    "name": "ipython",
    "version": 3
   },
   "file_extension": ".py",
   "mimetype": "text/x-python",
   "name": "python",
   "nbconvert_exporter": "python",
   "pygments_lexer": "ipython3",
   "version": "3.12.3"
  }
 },
 "nbformat": 4,
 "nbformat_minor": 5
}
