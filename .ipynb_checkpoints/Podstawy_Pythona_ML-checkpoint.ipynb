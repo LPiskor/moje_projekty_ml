{
 "cells": [
  {
   "cell_type": "markdown",
   "id": "0a07b499-e365-4f8f-8510-92c250d66627",
   "metadata": {},
   "source": [
    "Ćwiczenie 1:"
   ]
  },
  {
   "cell_type": "code",
   "execution_count": 17,
   "id": "efa79b55-1baf-41a7-9d50-2dde4024ac76",
   "metadata": {},
   "outputs": [
    {
     "name": "stdout",
     "output_type": "stream",
     "text": [
      "<class 'float'>\n",
      "<class 'str'>\n"
     ]
    }
   ],
   "source": [
    "#Utworzenie zmiennej z ceną i nazwą produktu\n",
    "cena = 15.99\n",
    "produkt = 'Langosz'\n",
    "#wyświetlenie zawartości obu zmiennych\n",
    "print(type(cena))\n",
    "print(type(produkt))"
   ]
  },
  {
   "cell_type": "markdown",
   "id": "135a960e-0d8c-4f2a-b1bf-dbbe6a889197",
   "metadata": {},
   "source": [
    "Ćwiczenie 2:"
   ]
  },
  {
   "cell_type": "code",
   "execution_count": 19,
   "id": "c4129b1a-9cbe-4153-aaab-19959b50f402",
   "metadata": {},
   "outputs": [
    {
     "name": "stdout",
     "output_type": "stream",
     "text": [
      "['Halloween', 'Koszmar z Ulicy Wiązów', 'Piątek Trzynastego']\n",
      "{'imie': 'Tomasz', 'nazwisko': 'Pilny', 'oceny': [4, 3, 5]}\n",
      "['Halloween', 'Koszmar z Ulicy Wiązów', 'Piątek Trzynastego', 'Martwe Zło']\n",
      "{'imie': 'Tomasz', 'nazwisko': 'Pilny', 'oceny': [4, 3, 5, 5]}\n"
     ]
    }
   ],
   "source": [
    "#Utworzenie listy zawierającej ulubione filmy\n",
    "ulubione_filmy = ['Halloween', 'Koszmar z Ulicy Wiązów', 'Piątek Trzynastego']\n",
    "#Utworzenie słownika student zawierającej imie, nazwisko i ocene\n",
    "student = {\n",
    "    'imie': 'Tomasz',\n",
    "    'nazwisko': 'Pilny',\n",
    "    'oceny': [4, 3, 5]\n",
    "}\n",
    "#Wyświetlenie listy oraz słownika\n",
    "print(ulubione_filmy)\n",
    "print(student)\n",
    "#dodanie na końcu listy nowego rekordu\n",
    "ulubione_filmy.append('Martwe Zło')\n",
    "#zmiana oceny\n",
    "student['oceny'].append(5)\n",
    "#ponowne wyświetlenie zawartości\n",
    "print(ulubione_filmy)\n",
    "print(student)\n"
   ]
  },
  {
   "cell_type": "markdown",
   "id": "6ee731f8-727f-4082-951f-be76af1e54cc",
   "metadata": {},
   "source": [
    "Ćwiczenie 3:"
   ]
  },
  {
   "cell_type": "code",
   "execution_count": 16,
   "id": "1e49a4ec-c69e-4868-a1bf-39292ec1ef29",
   "metadata": {},
   "outputs": [
    {
     "name": "stdout",
     "output_type": "stream",
     "text": [
      "pole_prostokata =  127.1\n",
      "1\n",
      "0\n",
      "False\n"
     ]
    }
   ],
   "source": [
    "#utworzenie zmiennych typu float\n",
    "a = 15.5\n",
    "b = 8.2\n",
    "#wyświetlenie oraz wykonanie obliczeń\n",
    "print('pole_prostokata = ', a*b)\n",
    "#Utworzenie zmiennej x\n",
    "x=27\n",
    "#Wykonanie operacji modullo \n",
    "#zostaje nam 1 reszty więc liczba jest nieparzysta\n",
    "print(x%2)\n",
    "#brak reszty - liczba podzielna przez 3\n",
    "print(x%3)\n",
    "#Sprawdzenie, czy oba warunki zostały spełnione\n",
    "print(x%2!=1 and x%3==0)"
   ]
  },
  {
   "cell_type": "markdown",
   "id": "d8d627a9-64f0-477f-8912-40928083b0d9",
   "metadata": {},
   "source": [
    "Ćwiczenie if-else:"
   ]
  },
  {
   "cell_type": "code",
   "execution_count": 26,
   "id": "a25cb852-4357-4d04-9aa1-8e07368ea802",
   "metadata": {},
   "outputs": [
    {
     "name": "stdout",
     "output_type": "stream",
     "text": [
      "Jest umiarkowanie.\n"
     ]
    }
   ],
   "source": [
    "temperatura_na_zewnątrz = 15.0\n",
    "\n",
    "if temperatura_na_zewnątrz < 0:\n",
    "    print('Jest zimno!')\n",
    "elif temperatura_na_zewnątrz < 10:\n",
    "    print('Jest chłodno.')\n",
    "elif temperatura_na_zewnątrz < 20:\n",
    "    print('Jest umiarkowanie.')\n",
    "else:\n",
    "    print('Jest ciepło!')"
   ]
  },
  {
   "cell_type": "markdown",
   "id": "93a73698-d46a-447d-a7ad-b43300c0a630",
   "metadata": {},
   "source": [
    "Ćwiczenie for:"
   ]
  },
  {
   "cell_type": "code",
   "execution_count": 38,
   "id": "77ea4e98-bdf3-4247-9956-b1b6854013ed",
   "metadata": {},
   "outputs": [
    {
     "name": "stdout",
     "output_type": "stream",
     "text": [
      "75\n",
      "88\n",
      "92\n",
      "65\n",
      "70\n",
      "78.0\n"
     ]
    }
   ],
   "source": [
    "punkty_egzaminacyjne = [75, 88, 92, 65, 70]\n",
    "suma_punktow = 0\n",
    "\n",
    "for punkty in punkty_egzaminacyjne:\n",
    "    print(f'{punkty}')\n",
    "\n",
    "for punkty in punkty_egzaminacyjne:\n",
    "    suma_punktow = suma_punktow + punkty\n",
    "    \n",
    "srednia = suma_punktow / len(punkty_egzaminacyjne)\n",
    "print(srednia)\n"
   ]
  },
  {
   "cell_type": "markdown",
   "id": "978e4cb4-9513-43f7-9097-6f0b0264f43c",
   "metadata": {},
   "source": [
    "Ćwiczenie pętla while:"
   ]
  },
  {
   "cell_type": "code",
   "execution_count": 39,
   "id": "21aa146d-c694-453c-a2c1-cd409137a648",
   "metadata": {},
   "outputs": [
    {
     "name": "stdout",
     "output_type": "stream",
     "text": [
      "Podaj liczbę!\n"
     ]
    },
    {
     "name": "stdin",
     "output_type": "stream",
     "text": [
      " 6\n"
     ]
    },
    {
     "name": "stdout",
     "output_type": "stream",
     "text": [
      "Wprowadź liczbę ponownie!\n"
     ]
    },
    {
     "name": "stdin",
     "output_type": "stream",
     "text": [
      " 8\n"
     ]
    },
    {
     "name": "stdout",
     "output_type": "stream",
     "text": [
      "Wprowadź liczbę ponownie!\n"
     ]
    },
    {
     "name": "stdin",
     "output_type": "stream",
     "text": [
      " 98\n"
     ]
    },
    {
     "name": "stdout",
     "output_type": "stream",
     "text": [
      "Wprowadź liczbę ponownie!\n"
     ]
    },
    {
     "name": "stdin",
     "output_type": "stream",
     "text": [
      " 0\n"
     ]
    }
   ],
   "source": [
    "print('Podaj liczbę!')\n",
    "number = int(input())\n",
    "\n",
    "while number != 0:\n",
    "    print('Wprowadź liczbę ponownie!')\n",
    "    number = int(input())\n",
    "    "
   ]
  },
  {
   "cell_type": "markdown",
   "id": "6118069b-7fd3-4a30-9e9b-a7a9d3687564",
   "metadata": {},
   "source": [
    "Ćwiczenie funkcje:"
   ]
  },
  {
   "cell_type": "code",
   "execution_count": 117,
   "id": "1e9a9b1e-e133-4326-bf06-1a29d9df5c4c",
   "metadata": {},
   "outputs": [
    {
     "name": "stdout",
     "output_type": "stream",
     "text": [
      "12.56636\n",
      "201.06176\n",
      "706.85775\n"
     ]
    }
   ],
   "source": [
    "pi = 3.14159\n",
    "\n",
    "def oblicz_pole_kola(promien):\n",
    "    pole_kola = pi * promien**2\n",
    "    return pole_kola\n",
    "print(oblicz_pole_kola(2))\n",
    "print(oblicz_pole_kola(8))\n",
    "print(oblicz_pole_kola(15))"
   ]
  },
  {
   "cell_type": "code",
   "execution_count": 124,
   "id": "f48ba65e-4264-409d-9bd8-9f650cb1bb30",
   "metadata": {},
   "outputs": [
    {
     "data": {
      "text/plain": [
       "True"
      ]
     },
     "execution_count": 124,
     "metadata": {},
     "output_type": "execute_result"
    }
   ],
   "source": [
    "def czy_liczba_pierwsza(liczba):\n",
    "    #Sprawdzenie czy liczba jest mniejsza równa 1, co automatycznie eliminuje ją z bycia liczbą pierwszą\n",
    "    if liczba <= 1:\n",
    "        return False\n",
    "    \n",
    "    #sprawdzenie i od 2 w górę, aż do liczba - 1 (sama liczba się nie wlicza)\n",
    "    for i in range(2,liczba):\n",
    "        if liczba % i == 0:\n",
    "            return False\n",
    "       \n",
    "    return True\n",
    "#liczba była większa od 1 przez \n",
    "#którą dzieli się każda liczba i nie dzieliła się \n",
    "#przez żadną inną liczbę z wyjątkiem swojej własnej, co znaczy,  że jest liczbą pierwszą\n",
    "\n",
    "czy_liczba_pierwsza(13)\n"
   ]
  },
  {
   "cell_type": "code",
   "execution_count": null,
   "id": "2b07d84d-2c77-44a4-a166-b95f63197b09",
   "metadata": {},
   "outputs": [],
   "source": []
  }
 ],
 "metadata": {
  "kernelspec": {
   "display_name": "Python 3 (ipykernel)",
   "language": "python",
   "name": "python3"
  },
  "language_info": {
   "codemirror_mode": {
    "name": "ipython",
    "version": 3
   },
   "file_extension": ".py",
   "mimetype": "text/x-python",
   "name": "python",
   "nbconvert_exporter": "python",
   "pygments_lexer": "ipython3",
   "version": "3.12.3"
  }
 },
 "nbformat": 4,
 "nbformat_minor": 5
}
