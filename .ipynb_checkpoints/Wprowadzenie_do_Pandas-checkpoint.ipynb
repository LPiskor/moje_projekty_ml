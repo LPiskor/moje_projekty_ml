{
 "cells": [
  {
   "cell_type": "code",
   "execution_count": 34,
   "id": "3ca9acba-02d8-4334-9d4c-345aca226bde",
   "metadata": {},
   "outputs": [
    {
     "name": "stdout",
     "output_type": "stream",
     "text": [
      "Biblioteka Pandas została zaimportowana jako pd.\n"
     ]
    }
   ],
   "source": [
    "import pandas as pd\n",
    "print(\"Biblioteka Pandas została zaimportowana jako pd.\")"
   ]
  },
  {
   "cell_type": "code",
   "execution_count": 6,
   "id": "f9e808f6-32c0-454a-8ce0-3045f8b6f96f",
   "metadata": {},
   "outputs": [
    {
     "name": "stdout",
     "output_type": "stream",
     "text": [
      "0    poniedziałek\n",
      "1          wtorek\n",
      "2           środa\n",
      "dtype: object\n"
     ]
    }
   ],
   "source": [
    "dni_tygodnia = ['poniedziałek','wtorek','środa']\n",
    "dni_tygodnia = pd.Series(dni_tygodnia)\n",
    "print(dni_tygodnia)"
   ]
  },
  {
   "cell_type": "code",
   "execution_count": 27,
   "id": "5aaba74b-a72f-46bb-b160-9663f1fadd19",
   "metadata": {},
   "outputs": [
    {
     "name": "stdout",
     "output_type": "stream",
     "text": [
      "      Nazwa    Cena  Dostępność\n",
      "0  Suszarka   79.99        True\n",
      "1   Lokówka   69.98        True\n",
      "2   Żelazko   49.99        True\n",
      "3    Pralka  899.00       False\n",
      "\n",
      "0    Suszarka\n",
      "1     Lokówka\n",
      "2     Żelazko\n",
      "3      Pralka\n",
      "Name: Nazwa, dtype: object\n",
      "\n",
      "Nazwa         Lokówka\n",
      "Cena            69.98\n",
      "Dostępność       True\n",
      "Name: 1, dtype: object\n",
      "\n",
      "      Nazwa    Cena  Dostępność\n",
      "0  Suszarka   79.99        True\n",
      "1   Lokówka   69.98        True\n",
      "3    Pralka  899.00       False\n",
      "\n",
      "      Nazwa   Cena  Dostępność\n",
      "0  Suszarka  79.99        True\n",
      "1   Lokówka  69.98        True\n",
      "2   Żelazko  49.99        True\n"
     ]
    }
   ],
   "source": [
    "produkty = {\n",
    "    'Nazwa': ['Suszarka', 'Lokówka', 'Żelazko', 'Pralka'],\n",
    "    'Cena' : [79.99, 69.98, 49.99, 899.00],\n",
    "    'Dostępność': [True, True, True, False]}\n",
    "df = pd.DataFrame(produkty)\n",
    "print(df)\n",
    "print(f'\\n{df.loc[:,'Nazwa']}')\n",
    "print(f'\\n{df.iloc[1]}')\n",
    "print(f'\\n{df[df['Cena'] > 50]}')\n",
    "print(f'\\n{df[df['Dostępność'] == True]}')"
   ]
  },
  {
   "cell_type": "code",
   "execution_count": 63,
   "id": "63aa471a-d80b-4c3c-ba9a-82d9569dd464",
   "metadata": {},
   "outputs": [
    {
     "name": "stdout",
     "output_type": "stream",
     "text": [
      "DataFrame wczytany z pliku 'produkty.csv':\n",
      "   ID    Produkty    Kategoria  Cena     Stan\n",
      "0   1      Laptop  Elektronika  1200     Nowy\n",
      "1   2        Mysz  Elektronika    25  Używany\n",
      "2   3  Klawiatura  Elektronika    75     Nowy\n",
      "3   4     Monitor  Elektronika   300     Nowy\n",
      "4   5     Książka   Literatura    30     Nowy\n",
      "5   6    Długopis        Biuro     5     Nowy\n"
     ]
    }
   ],
   "source": [
    "#Wczytanie pliku CSV\n",
    "df_produkty_z_csv = pd.read_csv('produkty.csv')\n",
    "print(\"DataFrame wczytany z pliku 'produkty.csv':\")\n",
    "print(df_produkty_z_csv)\n"
   ]
  },
  {
   "cell_type": "code",
   "execution_count": 64,
   "id": "5b322229-f29c-421b-b6f6-3e57e80d82f8",
   "metadata": {},
   "outputs": [
    {
     "name": "stdout",
     "output_type": "stream",
     "text": [
      "   ID    Produkty    Kategoria  Cena     Stan\n",
      "0   1      Laptop  Elektronika  1200     Nowy\n",
      "1   2        Mysz  Elektronika    25  Używany\n",
      "2   3  Klawiatura  Elektronika    75     Nowy\n"
     ]
    }
   ],
   "source": [
    "#Wyświetlenie 3 pierwszych wyników z df\n",
    "print(df_produkty_z_csv.head(3))"
   ]
  },
  {
   "cell_type": "code",
   "execution_count": 65,
   "id": "60f40f57-63a7-47fd-90bc-2a9992eab272",
   "metadata": {},
   "outputs": [
    {
     "name": "stdout",
     "output_type": "stream",
     "text": [
      "<class 'pandas.core.frame.DataFrame'>\n",
      "RangeIndex: 6 entries, 0 to 5\n",
      "Data columns (total 5 columns):\n",
      " #   Column     Non-Null Count  Dtype \n",
      "---  ------     --------------  ----- \n",
      " 0   ID         6 non-null      int64 \n",
      " 1   Produkty   6 non-null      object\n",
      " 2   Kategoria  6 non-null      object\n",
      " 3   Cena       6 non-null      int64 \n",
      " 4   Stan       6 non-null      object\n",
      "dtypes: int64(2), object(3)\n",
      "memory usage: 372.0+ bytes\n",
      "None\n"
     ]
    }
   ],
   "source": [
    "#Wyświetlenie informacji o df\n",
    "print(df_produkty_z_csv.info())"
   ]
  },
  {
   "cell_type": "code",
   "execution_count": 66,
   "id": "bfb2b6f2-c2be-4f0c-af73-d6836dd453da",
   "metadata": {},
   "outputs": [
    {
     "name": "stdout",
     "output_type": "stream",
     "text": [
      "             ID         Cena\n",
      "count  6.000000     6.000000\n",
      "mean   3.500000   272.500000\n",
      "std    1.870829   467.255284\n",
      "min    1.000000     5.000000\n",
      "25%    2.250000    26.250000\n",
      "50%    3.500000    52.500000\n",
      "75%    4.750000   243.750000\n",
      "max    6.000000  1200.000000\n"
     ]
    }
   ],
   "source": [
    "#Informacje o danych zawartch w kolumnach numerycznych\n",
    "print(df_produkty_z_csv.describe())"
   ]
  },
  {
   "cell_type": "code",
   "execution_count": 67,
   "id": "a16a715e-94cc-4863-bcd3-f1a1d6cbb079",
   "metadata": {},
   "outputs": [
    {
     "name": "stdout",
     "output_type": "stream",
     "text": [
      "   ID    Produkty    Kategoria  Cena     Stan  Marża_Procent\n",
      "0   1      Laptop  Elektronika  1200     Nowy            0.2\n",
      "1   2        Mysz  Elektronika    25  Używany            0.2\n",
      "2   3  Klawiatura  Elektronika    75     Nowy            0.2\n",
      "3   4     Monitor  Elektronika   300     Nowy            0.2\n",
      "4   5     Książka   Literatura    30     Nowy            0.2\n",
      "5   6    Długopis        Biuro     5     Nowy            0.2\n"
     ]
    }
   ],
   "source": [
    "#Dodanie kolumny Marża_Procent\n",
    "df_produkty_z_csv['Marża_Procent'] = 0.20\n",
    "print(df_produkty_z_csv)"
   ]
  },
  {
   "cell_type": "code",
   "execution_count": 68,
   "id": "e71eb825-d68f-475a-906d-556e0c4b2d94",
   "metadata": {},
   "outputs": [
    {
     "name": "stdout",
     "output_type": "stream",
     "text": [
      "   ID    Produkty    Kategoria  Cena     Stan  Marża_Procent  Cena_Sprzedazy\n",
      "0   1      Laptop  Elektronika  1200     Nowy            0.2          1440.0\n",
      "1   2        Mysz  Elektronika    25  Używany            0.2            30.0\n",
      "2   3  Klawiatura  Elektronika    75     Nowy            0.2            90.0\n",
      "3   4     Monitor  Elektronika   300     Nowy            0.2           360.0\n",
      "4   5     Książka   Literatura    30     Nowy            0.2            36.0\n",
      "5   6    Długopis        Biuro     5     Nowy            0.2             6.0\n"
     ]
    }
   ],
   "source": [
    "#Dodanie kolumny Cena_Sprzedazy będącej wynikiem mnożenia kolumny Cena razy + wartość z kolumny Marża_Procent\n",
    "df_produkty_z_csv['Cena_Sprzedazy'] = df_produkty_z_csv['Cena']*(1+df_produkty_z_csv['Marża_Procent'])\n",
    "print(df_produkty_z_csv)"
   ]
  },
  {
   "cell_type": "code",
   "execution_count": 69,
   "id": "739a2e67-58f5-41fc-a528-5ee7459effdc",
   "metadata": {},
   "outputs": [
    {
     "name": "stdout",
     "output_type": "stream",
     "text": [
      "     Produkty    Kategoria  Cena     Stan  Marża_Procent  Cena_Sprzedazy\n",
      "0      Laptop  Elektronika  1200     Nowy            0.2          1440.0\n",
      "1        Mysz  Elektronika    25  Używany            0.2            30.0\n",
      "2  Klawiatura  Elektronika    75     Nowy            0.2            90.0\n",
      "3     Monitor  Elektronika   300     Nowy            0.2           360.0\n",
      "4     Książka   Literatura    30     Nowy            0.2            36.0\n",
      "5    Długopis        Biuro     5     Nowy            0.2             6.0\n"
     ]
    }
   ],
   "source": [
    "#Usunięcie kolumny ID\n",
    "df_produkty_z_csv = df_produkty_z_csv.drop('ID', axis=1)\n",
    "print(df_produkty_z_csv)"
   ]
  },
  {
   "cell_type": "code",
   "execution_count": 70,
   "id": "439636be-62ae-4706-922b-d7efb1809aad",
   "metadata": {},
   "outputs": [
    {
     "name": "stdout",
     "output_type": "stream",
     "text": [
      "     Produkty    Kategoria  Cena     Stan  Marża_Procent  Cena_Sprzedazy\n",
      "0      Laptop  Elektronika  1200     Nowy            0.2          1440.0\n",
      "3     Monitor  Elektronika   300     Nowy            0.2           360.0\n",
      "2  Klawiatura  Elektronika    75     Nowy            0.2            90.0\n",
      "4     Książka   Literatura    30     Nowy            0.2            36.0\n",
      "1        Mysz  Elektronika    25  Używany            0.2            30.0\n",
      "5    Długopis        Biuro     5     Nowy            0.2             6.0\n"
     ]
    }
   ],
   "source": [
    "#Sortowanie malejąco po kolumnie Cena_Sprzedazy\n",
    "df_produkty_z_csv = df_produkty_z_csv.sort_values(by='Cena_Sprzedazy', ascending=0)\n",
    "print(df_produkty_z_csv)"
   ]
  },
  {
   "cell_type": "code",
   "execution_count": 71,
   "id": "d465d73c-9e19-4e52-82b1-ca9ab38d2b2c",
   "metadata": {},
   "outputs": [
    {
     "name": "stdout",
     "output_type": "stream",
     "text": [
      "['Elektronika' 'Literatura' 'Biuro']\n"
     ]
    }
   ],
   "source": [
    "#Wyswietlenie Kategori o unikalnych wartościach\n",
    "print(df_produkty_z_csv['Kategoria'].unique())"
   ]
  },
  {
   "cell_type": "code",
   "execution_count": 72,
   "id": "7f91b31d-47c9-4491-a677-a75c15cf2fcb",
   "metadata": {},
   "outputs": [
    {
     "name": "stdout",
     "output_type": "stream",
     "text": [
      "2\n"
     ]
    }
   ],
   "source": [
    "#Policzenie liczby unikatowych wartości zawartych w kolumnie Stan\n",
    "print(df_produkty_z_csv['Stan'].nunique())"
   ]
  },
  {
   "cell_type": "code",
   "execution_count": null,
   "id": "eee83871-2fa7-4eec-a107-7869b3edb326",
   "metadata": {},
   "outputs": [],
   "source": []
  }
 ],
 "metadata": {
  "kernelspec": {
   "display_name": "Python 3 (ipykernel)",
   "language": "python",
   "name": "python3"
  },
  "language_info": {
   "codemirror_mode": {
    "name": "ipython",
    "version": 3
   },
   "file_extension": ".py",
   "mimetype": "text/x-python",
   "name": "python",
   "nbconvert_exporter": "python",
   "pygments_lexer": "ipython3",
   "version": "3.12.3"
  }
 },
 "nbformat": 4,
 "nbformat_minor": 5
}
