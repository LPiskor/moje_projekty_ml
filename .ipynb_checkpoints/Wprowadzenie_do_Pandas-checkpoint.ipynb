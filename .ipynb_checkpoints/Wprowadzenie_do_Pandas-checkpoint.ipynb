{
 "cells": [
  {
   "cell_type": "code",
   "execution_count": 1,
   "id": "3ca9acba-02d8-4334-9d4c-345aca226bde",
   "metadata": {},
   "outputs": [
    {
     "name": "stdout",
     "output_type": "stream",
     "text": [
      "Biblioteka Pandas została zaimportowana jako pd.\n"
     ]
    }
   ],
   "source": [
    "import pandas as pd\n",
    "print(\"Biblioteka Pandas została zaimportowana jako pd.\")"
   ]
  },
  {
   "cell_type": "code",
   "execution_count": 6,
   "id": "f9e808f6-32c0-454a-8ce0-3045f8b6f96f",
   "metadata": {},
   "outputs": [
    {
     "name": "stdout",
     "output_type": "stream",
     "text": [
      "0    poniedziałek\n",
      "1          wtorek\n",
      "2           środa\n",
      "dtype: object\n"
     ]
    }
   ],
   "source": [
    "dni_tygodnia = ['poniedziałek','wtorek','środa']\n",
    "dni_tygodnia = pd.Series(dni_tygodnia)\n",
    "print(dni_tygodnia)"
   ]
  },
  {
   "cell_type": "code",
   "execution_count": 27,
   "id": "5aaba74b-a72f-46bb-b160-9663f1fadd19",
   "metadata": {},
   "outputs": [
    {
     "name": "stdout",
     "output_type": "stream",
     "text": [
      "      Nazwa    Cena  Dostępność\n",
      "0  Suszarka   79.99        True\n",
      "1   Lokówka   69.98        True\n",
      "2   Żelazko   49.99        True\n",
      "3    Pralka  899.00       False\n",
      "\n",
      "0    Suszarka\n",
      "1     Lokówka\n",
      "2     Żelazko\n",
      "3      Pralka\n",
      "Name: Nazwa, dtype: object\n",
      "\n",
      "Nazwa         Lokówka\n",
      "Cena            69.98\n",
      "Dostępność       True\n",
      "Name: 1, dtype: object\n",
      "\n",
      "      Nazwa    Cena  Dostępność\n",
      "0  Suszarka   79.99        True\n",
      "1   Lokówka   69.98        True\n",
      "3    Pralka  899.00       False\n",
      "\n",
      "      Nazwa   Cena  Dostępność\n",
      "0  Suszarka  79.99        True\n",
      "1   Lokówka  69.98        True\n",
      "2   Żelazko  49.99        True\n"
     ]
    }
   ],
   "source": [
    "produkty = {\n",
    "    'Nazwa': ['Suszarka', 'Lokówka', 'Żelazko', 'Pralka'],\n",
    "    'Cena' : [79.99, 69.98, 49.99, 899.00],\n",
    "    'Dostępność': [True, True, True, False]}\n",
    "df = pd.DataFrame(produkty)\n",
    "print(df)\n",
    "print(f'\\n{df.loc[:,'Nazwa']}')\n",
    "print(f'\\n{df.iloc[1]}')\n",
    "print(f'\\n{df[df['Cena'] > 50]}')\n",
    "print(f'\\n{df[df['Dostępność'] == True]}')"
   ]
  },
  {
   "cell_type": "code",
   "execution_count": null,
   "id": "63aa471a-d80b-4c3c-ba9a-82d9569dd464",
   "metadata": {},
   "outputs": [],
   "source": []
  }
 ],
 "metadata": {
  "kernelspec": {
   "display_name": "Python 3 (ipykernel)",
   "language": "python",
   "name": "python3"
  },
  "language_info": {
   "codemirror_mode": {
    "name": "ipython",
    "version": 3
   },
   "file_extension": ".py",
   "mimetype": "text/x-python",
   "name": "python",
   "nbconvert_exporter": "python",
   "pygments_lexer": "ipython3",
   "version": "3.12.3"
  }
 },
 "nbformat": 4,
 "nbformat_minor": 5
}
