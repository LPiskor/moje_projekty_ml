{
 "cells": [
  {
   "cell_type": "code",
   "execution_count": 1,
   "id": "66faa92d-5b56-43ba-bd24-c7726a3909e1",
   "metadata": {},
   "outputs": [
    {
     "name": "stdout",
     "output_type": "stream",
     "text": [
      "Biblioteka Numpy została zaimportowana jako np.\n"
     ]
    }
   ],
   "source": [
    "import numpy as np\n",
    "print('Biblioteka Numpy została zaimportowana jako np.')"
   ]
  },
  {
   "cell_type": "code",
   "execution_count": 11,
   "id": "360c0c51-93c4-40d6-8395-c68b0c0d42cc",
   "metadata": {},
   "outputs": [
    {
     "name": "stdout",
     "output_type": "stream",
     "text": [
      "[10 20 30 40 50 60 70 80]\n",
      "Dtype: int64\n",
      "Shape: (8,)\n",
      "30\n",
      "[60 70 80]\n",
      "[20 40 60 80]\n",
      "[[10 20]\n",
      " [30 40]\n",
      " [50 60]\n",
      " [70 80]]\n"
     ]
    }
   ],
   "source": [
    "#utworzenie listy\n",
    "moje_dane = [10,20,30,40,50,60,70,80]\n",
    "#przekształcenie listy w tablicę\n",
    "moje_dane = np.array(moje_dane)\n",
    "#wyświetlenie tablicy\n",
    "print(moje_dane)\n",
    "#sprawdzenie typu danych\n",
    "print(f'Dtype: {moje_dane.dtype}')\n",
    "#sprawdzenie formy tablicy (8 elementów)\n",
    "print(f'Shape: {moje_dane.shape}')\n",
    "#Wyświetlenie elementu o indexie 2\n",
    "print(moje_dane[2])\n",
    "#Wyświetlenie elemntów od indexu 5 do końca\n",
    "print(moje_dane[5: ])\n",
    "#Wyświetlenie co drugiego elemntu zaczynając od indeksowanego 1\n",
    "print(moje_dane[1: :2])\n",
    "#Przekształcenie tablicy w dwuwymiarową 4 wiersze po 2 kolumny\n",
    "print(f'{moje_dane.reshape(4,2)}')"
   ]
  },
  {
   "cell_type": "code",
   "execution_count": 12,
   "id": "913f1270-9ec0-4c84-9b71-1669f6de817f",
   "metadata": {},
   "outputs": [
    {
     "name": "stdout",
     "output_type": "stream",
     "text": [
      "[ 5 12 21 32]\n",
      "[ 6  8 10 12]\n"
     ]
    }
   ],
   "source": [
    "#Utworzenie 2 tablic\n",
    "wektor1 = np.array([1,2,3,4])\n",
    "wektor2 = np.array([5,6,7,8])\n",
    "#wykonanie mnożenia na tablicach\n",
    "print(wektor1*wektor2)\n",
    "#Dodawanie na tablicach\n",
    "print(wektor1+wektor2)"
   ]
  },
  {
   "cell_type": "code",
   "execution_count": 13,
   "id": "36b62b2c-95a8-48d7-b15d-3690d28a5979",
   "metadata": {},
   "outputs": [
    {
     "name": "stdout",
     "output_type": "stream",
     "text": [
      "[ 8 27 64]\n"
     ]
    }
   ],
   "source": [
    "#Utworzenie tablicy\n",
    "liczby_do_potegi = np.array([2,3,4])\n",
    "#Podniesienie elementów tablicy do 3 potęgi\n",
    "print(liczby_do_potegi**3)"
   ]
  },
  {
   "cell_type": "code",
   "execution_count": 21,
   "id": "5c5cd4f4-43fc-4582-b6da-c188c7ed0ad1",
   "metadata": {},
   "outputs": [
    {
     "name": "stdout",
     "output_type": "stream",
     "text": [
      "[25 30 23]\n",
      "30\n",
      "18\n",
      "23.0\n"
     ]
    }
   ],
   "source": [
    "#Utworzenie tablicy\n",
    "temperatury = np.array([22,25,18,30,20,23])\n",
    "#Wyświetlenie temperatur wyższych niż 22\n",
    "print(f'{temperatury[temperatury > 22]}')\n",
    "#Wyświetlenie najwyższej temperatury\n",
    "print(f'{temperatury.max()}')\n",
    "#Wyświetlenie najniższej temperatury\n",
    "print(f'{temperatury.min()}')\n",
    "#Obliczenie średniej temperatury na podstawie danych z tablicy\n",
    "print(f'{temperatury.mean()}')"
   ]
  },
  {
   "cell_type": "code",
   "execution_count": null,
   "id": "ee2c5593-d635-4f0f-ac6d-d7243d9a986b",
   "metadata": {},
   "outputs": [],
   "source": []
  }
 ],
 "metadata": {
  "kernelspec": {
   "display_name": "Python 3 (ipykernel)",
   "language": "python",
   "name": "python3"
  },
  "language_info": {
   "codemirror_mode": {
    "name": "ipython",
    "version": 3
   },
   "file_extension": ".py",
   "mimetype": "text/x-python",
   "name": "python",
   "nbconvert_exporter": "python",
   "pygments_lexer": "ipython3",
   "version": "3.12.3"
  }
 },
 "nbformat": 4,
 "nbformat_minor": 5
}
